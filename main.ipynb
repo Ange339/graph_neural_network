{
 "cells": [
  {
   "cell_type": "code",
   "execution_count": 9,
   "id": "4aded2b0",
   "metadata": {
    "colab": {
     "base_uri": "https://localhost:8080/"
    },
    "executionInfo": {
     "elapsed": 2126,
     "status": "ok",
     "timestamp": 1757179709356,
     "user": {
      "displayName": "angelo cao",
      "userId": "13059316039091548203"
     },
     "user_tz": -120
    },
    "id": "4aded2b0",
    "outputId": "859b4f05-34b1-4945-ee20-4edf36f4da0d"
   },
   "outputs": [
    {
     "name": "stdout",
     "output_type": "stream",
     "text": [
      "Drive already mounted at /content/drive; to attempt to forcibly remount, call drive.mount(\"/content/drive\", force_remount=True).\n",
      "/content/drive/MyDrive/thesis/graph_neural_network\n"
     ]
    }
   ],
   "source": [
    "from google.colab import drive\n",
    "drive.mount('/content/drive')\n",
    "%cd /content/drive/MyDrive/thesis/graph_neural_network/"
   ]
  },
  {
   "cell_type": "code",
   "execution_count": null,
   "id": "9247b3d0",
   "metadata": {
    "colab": {
     "base_uri": "https://localhost:8080/"
    },
    "executionInfo": {
     "elapsed": 213338,
     "status": "ok",
     "timestamp": 1757175495920,
     "user": {
      "displayName": "angelo cao",
      "userId": "13059316039091548203"
     },
     "user_tz": -120
    },
    "id": "9247b3d0",
    "outputId": "3ab34882-9a35-4c42-da31-66746f0f599b"
   },
   "outputs": [
    {
     "name": "stdout",
     "output_type": "stream",
     "text": [
      "PyTorch has version 2.4.0+cpu\n",
      "Looking in links: https://pytorch-geometric.com/whl/torch-2.4.0+cpu.html\n",
      "Collecting torch_scatter\n",
      "  Downloading https://data.pyg.org/whl/torch-2.4.0%2Bcpu/torch_scatter-2.1.2%2Bpt24cpu-cp310-cp310-win_amd64.whl (361 kB)\n",
      "Installing collected packages: torch_scatter\n",
      "Successfully installed torch_scatter-2.1.2+pt24cpu\n",
      "Looking in links: https://pytorch-geometric.com/whl/torch-2.4.0+cpu.html\n",
      "Collecting torch_sparse\n",
      "  Downloading https://data.pyg.org/whl/torch-2.4.0%2Bcpu/torch_sparse-0.6.18%2Bpt24cpu-cp310-cp310-win_amd64.whl (801 kB)\n",
      "     ---------------------------------------- 0.0/801.0 kB ? eta -:--:--\n",
      "     ---------------------------------------- 801.0/801.0 kB 6.9 MB/s  0:00:00\n",
      "Requirement already satisfied: scipy in c:\\users\\angel\\anaconda3\\envs\\pyg\\lib\\site-packages (from torch_sparse) (1.15.3)\n",
      "Requirement already satisfied: numpy<2.5,>=1.23.5 in c:\\users\\angel\\anaconda3\\envs\\pyg\\lib\\site-packages (from scipy->torch_sparse) (1.26.4)\n",
      "Installing collected packages: torch_sparse\n",
      "Successfully installed torch_sparse-0.6.18+pt24cpu\n",
      "Looking in links: https://pytorch-geometric.com/whl/torch-2.4.0+cpu.html\n",
      "Collecting torch_cluster\n",
      "  Downloading https://data.pyg.org/whl/torch-2.4.0%2Bcpu/torch_cluster-1.6.3%2Bpt24cpu-cp310-cp310-win_amd64.whl (507 kB)\n",
      "Requirement already satisfied: scipy in c:\\users\\angel\\anaconda3\\envs\\pyg\\lib\\site-packages (from torch_cluster) (1.15.3)\n",
      "Requirement already satisfied: numpy<2.5,>=1.23.5 in c:\\users\\angel\\anaconda3\\envs\\pyg\\lib\\site-packages (from scipy->torch_cluster) (1.26.4)\n",
      "Installing collected packages: torch_cluster\n",
      "Successfully installed torch_cluster-1.6.3+pt24cpu\n",
      "Looking in links: https://pytorch-geometric.com/whl/torch-2.4.0+cpu.html\n",
      "Collecting torch_spline_conv\n",
      "  Downloading https://data.pyg.org/whl/torch-2.4.0%2Bcpu/torch_spline_conv-1.2.2%2Bpt24cpu-cp310-cp310-win_amd64.whl (193 kB)\n",
      "Installing collected packages: torch_spline_conv\n",
      "Successfully installed torch_spline_conv-1.2.2+pt24cpu\n",
      "Collecting torch_geometric\n",
      "  Using cached torch_geometric-2.6.1-py3-none-any.whl.metadata (63 kB)\n",
      "Requirement already satisfied: aiohttp in c:\\users\\angel\\anaconda3\\envs\\pyg\\lib\\site-packages (from torch_geometric) (3.12.15)\n",
      "Requirement already satisfied: fsspec in c:\\users\\angel\\anaconda3\\envs\\pyg\\lib\\site-packages (from torch_geometric) (2025.7.0)\n",
      "Requirement already satisfied: jinja2 in c:\\users\\angel\\anaconda3\\envs\\pyg\\lib\\site-packages (from torch_geometric) (3.1.6)\n",
      "Requirement already satisfied: numpy in c:\\users\\angel\\anaconda3\\envs\\pyg\\lib\\site-packages (from torch_geometric) (1.26.4)\n",
      "Requirement already satisfied: psutil>=5.8.0 in c:\\users\\angel\\anaconda3\\envs\\pyg\\lib\\site-packages (from torch_geometric) (7.0.0)\n",
      "Requirement already satisfied: pyparsing in c:\\users\\angel\\anaconda3\\envs\\pyg\\lib\\site-packages (from torch_geometric) (3.2.3)\n",
      "Requirement already satisfied: requests in c:\\users\\angel\\anaconda3\\envs\\pyg\\lib\\site-packages (from torch_geometric) (2.32.4)\n",
      "Requirement already satisfied: tqdm in c:\\users\\angel\\anaconda3\\envs\\pyg\\lib\\site-packages (from torch_geometric) (4.67.1)\n",
      "Requirement already satisfied: aiohappyeyeballs>=2.5.0 in c:\\users\\angel\\anaconda3\\envs\\pyg\\lib\\site-packages (from aiohttp->torch_geometric) (2.6.1)\n",
      "Requirement already satisfied: aiosignal>=1.4.0 in c:\\users\\angel\\anaconda3\\envs\\pyg\\lib\\site-packages (from aiohttp->torch_geometric) (1.4.0)\n",
      "Requirement already satisfied: async-timeout<6.0,>=4.0 in c:\\users\\angel\\anaconda3\\envs\\pyg\\lib\\site-packages (from aiohttp->torch_geometric) (5.0.1)\n",
      "Requirement already satisfied: attrs>=17.3.0 in c:\\users\\angel\\anaconda3\\envs\\pyg\\lib\\site-packages (from aiohttp->torch_geometric) (25.3.0)\n",
      "Requirement already satisfied: frozenlist>=1.1.1 in c:\\users\\angel\\anaconda3\\envs\\pyg\\lib\\site-packages (from aiohttp->torch_geometric) (1.7.0)\n",
      "Requirement already satisfied: multidict<7.0,>=4.5 in c:\\users\\angel\\anaconda3\\envs\\pyg\\lib\\site-packages (from aiohttp->torch_geometric) (6.6.4)\n",
      "Requirement already satisfied: propcache>=0.2.0 in c:\\users\\angel\\anaconda3\\envs\\pyg\\lib\\site-packages (from aiohttp->torch_geometric) (0.3.2)\n",
      "Requirement already satisfied: yarl<2.0,>=1.17.0 in c:\\users\\angel\\anaconda3\\envs\\pyg\\lib\\site-packages (from aiohttp->torch_geometric) (1.20.1)\n",
      "Requirement already satisfied: typing-extensions>=4.1.0 in c:\\users\\angel\\anaconda3\\envs\\pyg\\lib\\site-packages (from multidict<7.0,>=4.5->aiohttp->torch_geometric) (4.14.1)\n",
      "Requirement already satisfied: idna>=2.0 in c:\\users\\angel\\anaconda3\\envs\\pyg\\lib\\site-packages (from yarl<2.0,>=1.17.0->aiohttp->torch_geometric) (3.7)\n",
      "Requirement already satisfied: MarkupSafe>=2.0 in c:\\users\\angel\\anaconda3\\envs\\pyg\\lib\\site-packages (from jinja2->torch_geometric) (3.0.2)\n",
      "Requirement already satisfied: charset_normalizer<4,>=2 in c:\\users\\angel\\anaconda3\\envs\\pyg\\lib\\site-packages (from requests->torch_geometric) (3.3.2)\n",
      "Requirement already satisfied: urllib3<3,>=1.21.1 in c:\\users\\angel\\anaconda3\\envs\\pyg\\lib\\site-packages (from requests->torch_geometric) (2.5.0)\n",
      "Requirement already satisfied: certifi>=2017.4.17 in c:\\users\\angel\\anaconda3\\envs\\pyg\\lib\\site-packages (from requests->torch_geometric) (2025.8.3)\n",
      "Requirement already satisfied: colorama in c:\\users\\angel\\anaconda3\\envs\\pyg\\lib\\site-packages (from tqdm->torch_geometric) (0.4.6)\n",
      "Using cached torch_geometric-2.6.1-py3-none-any.whl (1.1 MB)\n",
      "Installing collected packages: torch_geometric\n",
      "Successfully installed torch_geometric-2.6.1\n"
     ]
    }
   ],
   "source": [
    "# !pip install torchmetrics\n",
    "# !pip install torch==2.4.0 torchvision==0.19.0 torchaudio==2.4.0 --index-url https://download.pytorch.org/whl/cu124\n",
    "\n",
    "import torch\n",
    "import os\n",
    "print(\"PyTorch has version {}\".format(torch.__version__))\n",
    "\n",
    "srs_url = f\"https://pytorch-geometric.com/whl/torch-{torch.__version__}.html\"\n",
    "!pip install torch_scatter -f $srs_url\n",
    "!pip install torch_sparse -f $srs_url\n",
    "!pip install torch_cluster -f $srs_url\n",
    "!pip install torch_spline_conv -f $srs_url\n",
    "!pip install torch_geometric"
   ]
  },
  {
   "cell_type": "code",
   "execution_count": 3,
   "id": "ce25922e",
   "metadata": {},
   "outputs": [
    {
     "name": "stdout",
     "output_type": "stream",
     "text": [
      "Found existing installation: torch-scatter 2.1.2+pt21cpu\n",
      "Uninstalling torch-scatter-2.1.2+pt21cpu:\n",
      "  Successfully uninstalled torch-scatter-2.1.2+pt21cpu\n",
      "Found existing installation: torch-sparse 0.6.18+pt21cpu\n",
      "Uninstalling torch-sparse-0.6.18+pt21cpu:\n",
      "  Successfully uninstalled torch-sparse-0.6.18+pt21cpu\n",
      "Found existing installation: torch-cluster 1.6.3+pt21cpu\n",
      "Uninstalling torch-cluster-1.6.3+pt21cpu:\n",
      "  Successfully uninstalled torch-cluster-1.6.3+pt21cpu\n",
      "Found existing installation: torch-spline-conv 1.2.2+pt21cpu\n",
      "Uninstalling torch-spline-conv-1.2.2+pt21cpu:\n",
      "  Successfully uninstalled torch-spline-conv-1.2.2+pt21cpu\n",
      "Found existing installation: torch-geometric 2.6.1\n",
      "Uninstalling torch-geometric-2.6.1:\n",
      "  Successfully uninstalled torch-geometric-2.6.1\n"
     ]
    }
   ],
   "source": [
    "!pip uninstall torch_scatter torch_sparse torch_cluster torch_spline_conv torch_geometric -y"
   ]
  },
  {
   "cell_type": "code",
   "execution_count": 1,
   "id": "b4c04484",
   "metadata": {
    "executionInfo": {
     "elapsed": 5,
     "status": "ok",
     "timestamp": 1757179715233,
     "user": {
      "displayName": "angelo cao",
      "userId": "13059316039091548203"
     },
     "user_tz": -120
    },
    "id": "b4c04484"
   },
   "outputs": [],
   "source": [
    "import logging\n",
    "\n",
    "import sys\n",
    "import itertools\n",
    "import yaml\n",
    "import subprocess\n",
    "import os\n",
    "import logging\n",
    "\n",
    "# Path to the config file and train script\n",
    "config_path = \"config.yaml\"\n",
    "train_script = \"train.py\"\n",
    "\n",
    "\n",
    "for handler in logging.root.handlers[:]:\n",
    "    logging.root.removeHandler(handler)\n",
    "\n",
    "logging.basicConfig(\n",
    "    level=logging.DEBUG,\n",
    "    datefmt='%m-%d %H:%M:%S',\n",
    "    format=\"%(asctime)s - %(levelname)s - %(name)s - %(message)s\"\n",
    ")\n",
    "logger = logging.getLogger(__name__)\n"
   ]
  },
  {
   "cell_type": "code",
   "execution_count": 13,
   "id": "Am7PVes6t5D1",
   "metadata": {
    "executionInfo": {
     "elapsed": 697,
     "status": "ok",
     "timestamp": 1757179728183,
     "user": {
      "displayName": "angelo cao",
      "userId": "13059316039091548203"
     },
     "user_tz": -120
    },
    "id": "Am7PVes6t5D1"
   },
   "outputs": [],
   "source": [
    "### Change config\n",
    "\n",
    "new_config = {\n",
    "    'epochs': 1,\n",
    "    \"val_size\": 0.2,\n",
    "    \"test_size\": 0.2,\n",
    "    \"seed\": 100,\n",
    "    'n_layer': 2,\n",
    "    'learning_rate': 0.001,\n",
    "    'item_emb_dim': 128,\n",
    "    'user_emb_dim': 128,\n",
    "    \"negative_sampling_method\": \"batch_random\",\n",
    "    \"recon_loss\": \"bpr\", # \"binary\", \"bpr\", \"bce\"\n",
    "    'feature_linear_dim': 128,\n",
    "    'hidden_channels': 128,\n",
    "    'latent_dim': 64,\n",
    "    'kl_beta': 0.5,\n",
    "    \"kl_warmup_epoch\" : 30,\n",
    "    'eval_interval': 1,\n",
    "    'variational': False,\n",
    "    'save_model': True\n",
    "}\n",
    "\n",
    "\n",
    "with open(config_path, \"r\") as f:\n",
    "    config = yaml.safe_load(f)\n",
    "\n",
    "config.update(new_config)\n",
    "\n",
    "temp_config_path = f\"temp_config.yaml\"\n",
    "with open(temp_config_path, \"w\") as f:\n",
    "    yaml.dump(config, f)"
   ]
  },
  {
   "cell_type": "code",
   "execution_count": null,
   "id": "ff2b76da",
   "metadata": {
    "colab": {
     "base_uri": "https://localhost:8080/"
    },
    "executionInfo": {
     "elapsed": 364677,
     "status": "ok",
     "timestamp": 1757180094161,
     "user": {
      "displayName": "angelo cao",
      "userId": "13059316039091548203"
     },
     "user_tz": -120
    },
    "id": "ff2b76da",
    "outputId": "c35205ff-49b4-46a2-88f2-ef9ff6646a78"
   },
   "outputs": [
    {
     "name": "stdout",
     "output_type": "stream",
     "text": [
      "INFO:__main__:Configuration:\n",
      "INFO:__main__:{'batch_method': 'binary_link_neighbors',\n",
      " 'batch_norm': False,\n",
      " 'batch_size': 128,\n",
      " 'book_features': [{'name': 'textual_desc'},\n",
      "                   {'aggr_fn': 'mean', 'name': 'textual_reviews'}],\n",
      " 'books_filename': 'books_filtered.parquet',\n",
      " 'coreness_k': 5,\n",
      " 'decoder': 'inner_product_decoder',\n",
      " 'descriptions_filename': 'descriptions_filtered.parquet',\n",
      " 'dir': '../data_sample',\n",
      " 'disjoint_train_ratio': 0.0,\n",
      " 'dropout': 0.5,\n",
      " 'edge_type': 'interactions',\n",
      " 'embeddings_descriptions_filename': 'embeddings_descriptions_sbert_pt.parquet',\n",
      " 'embeddings_reviews_filename': 'embeddings_reviews_sbert_pt.parquet',\n",
      " 'encoder': 'sage_encoder',\n",
      " 'epochs': 1,\n",
      " 'eval_interval': 1,\n",
      " 'feature_aggr_method': 'concat',\n",
      " 'feature_linear_dim': 128,\n",
      " 'heads': 2,\n",
      " 'hidden_channels': 128,\n",
      " 'interactions_filename': 'interactions.parquet',\n",
      " 'item_emb_dim': 128,\n",
      " 'item_feature_linear': True,\n",
      " 'kl_beta': 0.5,\n",
      " 'kl_warmup_epoch': 30,\n",
      " 'language_filter': True,\n",
      " 'latent_dim': 64,\n",
      " 'learning_rate': 0.001,\n",
      " 'n_layer': 2,\n",
      " 'negative_sampling_method': 'pairwise_random',\n",
      " 'negative_sampling_ratio': 1.0,\n",
      " 'negative_sampling_recurrence': 'epoch',\n",
      " 'num_neighbors': [10, 10],\n",
      " 'opt_decay_rate': 0.1,\n",
      " 'opt_decay_step': 20,\n",
      " 'out_dir': 'output_sample',\n",
      " 'patience': 50,\n",
      " 'recon_loss': 'bpr',\n",
      " 'retrieval_k': 300,\n",
      " 'review_coreness_k': 5,\n",
      " 'reviews_filename': 'reviews_filtered.parquet',\n",
      " 'save_model': True,\n",
      " 'seed': 100,\n",
      " 'skip_connection': 'None',\n",
      " 'test_size': 0.2,\n",
      " 'tsne_visualization': True,\n",
      " 'user_emb_dim': 128,\n",
      " 'user_feature_linear': True,\n",
      " 'user_features': [{'aggr_fn': 'mean', 'name': 'textual_reviews'}],\n",
      " 'users_filename': 'users_filtered.parquet',\n",
      " 'val_size': 0.2,\n",
      " 'variational': False,\n",
      " 'weight_decay': 1e-05}\n",
      "INFO:src.data_loader:Edge type: interactions\n",
      "INFO:src.data_loader:Initial size. Users: 69490, Books: 407511, Total: 477001, Edges: 2066968, Density: 0.007299%\n",
      "INFO:src.data_loader:Filtered size. Users: 2454, Books: 2248, Total: 4702, Edges: 117486, Density: 2.129684%\n",
      "INFO:src.data_loader:Initial textual embeddings size. Descriptions: 2248, Reviews: 30635, Total: 32883\n",
      "INFO:src.data_loader:Filtered textual embeddings size. Descriptions: 2248, Reviews: 29285, Total: 31533\n",
      "INFO:src.data_loader:User Feature textual_reviews shape: torch.Size([2454, 384])\n",
      "INFO:src.data_loader:Item Feature textual_desc shape: torch.Size([2248, 384])\n",
      "INFO:src.data_loader:Item Feature textual_reviews shape: torch.Size([2248, 384])\n",
      "INFO:__main__:Train: HeteroData(\n",
      "  user={\n",
      "    node_id=[2454],\n",
      "    genre=[2454],\n",
      "    x=[2454, 384],\n",
      "  },\n",
      "  item={\n",
      "    node_id=[2248],\n",
      "    genre=[2248],\n",
      "    x=[2248, 768],\n",
      "  },\n",
      "  (user, interacts, item)={\n",
      "    edge_index=[2, 70492],\n",
      "    edge_label=[70492],\n",
      "    edge_label_index=[2, 70492],\n",
      "  },\n",
      "  (item, rev_interacts, user)={ edge_index=[2, 70492] }\n",
      ")\n",
      "INFO:__main__:Val: HeteroData(\n",
      "  user={\n",
      "    node_id=[2454],\n",
      "    genre=[2454],\n",
      "    x=[2454, 384],\n",
      "  },\n",
      "  item={\n",
      "    node_id=[2248],\n",
      "    genre=[2248],\n",
      "    x=[2248, 768],\n",
      "  },\n",
      "  (user, interacts, item)={\n",
      "    edge_index=[2, 70492],\n",
      "    edge_label=[46994],\n",
      "    edge_label_index=[2, 46994],\n",
      "  },\n",
      "  (item, rev_interacts, user)={ edge_index=[2, 70492] }\n",
      ")\n",
      "INFO:__main__:Test: HeteroData(\n",
      "  user={\n",
      "    node_id=[2454],\n",
      "    genre=[2454],\n",
      "    x=[2454, 384],\n",
      "  },\n",
      "  item={\n",
      "    node_id=[2248],\n",
      "    genre=[2248],\n",
      "    x=[2248, 768],\n",
      "  },\n",
      "  (user, interacts, item)={\n",
      "    edge_index=[2, 93989],\n",
      "    edge_label=[46994],\n",
      "    edge_label_index=[2, 46994],\n",
      "  },\n",
      "  (item, rev_interacts, user)={ edge_index=[2, 93989] }\n",
      ")\n",
      "c:\\Users\\angel\\anaconda3\\envs\\pyg\\lib\\site-packages\\torch_geometric\\nn\\fx.py:132: UserWarning: Found function 'dropout' with keyword argument 'training'. During FX tracing, this will likely be baked in as a constant value. Consider replacing this function by a module to properly encapsulate its training flag.\n",
      "  warnings.warn(f\"Found function '{node.name}' with keyword \"\n",
      "c:\\Users\\angel\\anaconda3\\envs\\pyg\\lib\\site-packages\\torch_geometric\\nn\\fx.py:132: UserWarning: Found function 'dropout' with keyword argument 'training'. During FX tracing, this will likely be baked in as a constant value. Consider replacing this function by a module to properly encapsulate its training flag.\n",
      "  warnings.warn(f\"Found function '{node.name}' with keyword \"\n",
      "INFO:root:Model summary:\n",
      "INFO:root:GAE(\n",
      "  (user_embedding): Embedding(2454, 128)\n",
      "  (item_embedding): Embedding(2248, 128)\n",
      "  (user_feature_linear): Linear(in_features=384, out_features=128, bias=True)\n",
      "  (item_feature_linear): Linear(in_features=768, out_features=128, bias=True)\n",
      "  (encoder): SageEncoder(\n",
      "    (layers): ModuleList(\n",
      "      (0): GraphModule(\n",
      "        (conv): ModuleDict(\n",
      "          (user__interacts__item): SAGEConv((-1, -1), 128, aggr=mean)\n",
      "          (item__rev_interacts__user): SAGEConv((-1, -1), 128, aggr=mean)\n",
      "        )\n",
      "        (skip_linear): Linear(-1, 128, bias=True)\n",
      "      )\n",
      "      (1): GraphModule(\n",
      "        (conv): ModuleDict(\n",
      "          (user__interacts__item): SAGEConv(128, 128, aggr=mean)\n",
      "          (item__rev_interacts__user): SAGEConv(128, 128, aggr=mean)\n",
      "        )\n",
      "        (skip_linear): Linear(-1, 128, bias=True)\n",
      "      )\n",
      "    )\n",
      "    (conv_out): GraphModule(\n",
      "      (conv): ModuleDict(\n",
      "        (user__interacts__item): SAGEConv(128, 64, aggr=mean)\n",
      "        (item__rev_interacts__user): SAGEConv(128, 64, aggr=mean)\n",
      "      )\n",
      "      (skip_linear): Linear(-1, 64, bias=True)\n",
      "    )\n",
      "  )\n",
      "  (decoder): InnerProductDecoder()\n",
      ")\n",
      "\n",
      "Training:   0%|          | 0/1 [00:00<?, ?Epochs/s]"
     ]
    },
    {
     "data": {
      "text/plain": [
       "3221226356"
      ]
     },
     "execution_count": 3,
     "metadata": {},
     "output_type": "execute_result"
    }
   ],
   "source": [
    "\n",
    "process = subprocess.Popen(\n",
    "    [\"python\", \"-u\", train_script, \"--config\", temp_config_path],\n",
    "    stdout=subprocess.PIPE,\n",
    "    stderr=subprocess.STDOUT,\n",
    "    text=True\n",
    ")\n",
    "\n",
    "# Stream output line by line\n",
    "for line in process.stdout:\n",
    "    print(line, end=\"\")  # live printing in notebook\n",
    "\n",
    "process.wait()  # wait for completion\n"
   ]
  },
  {
   "cell_type": "code",
   "execution_count": null,
   "id": "NArXevWQo1VH",
   "metadata": {
    "id": "NArXevWQo1VH"
   },
   "outputs": [],
   "source": []
  }
 ],
 "metadata": {
  "accelerator": "GPU",
  "colab": {
   "gpuType": "T4",
   "provenance": [],
   "toc_visible": true
  },
  "kernelspec": {
   "display_name": "pyg",
   "language": "python",
   "name": "python3"
  },
  "language_info": {
   "codemirror_mode": {
    "name": "ipython",
    "version": 3
   },
   "file_extension": ".py",
   "mimetype": "text/x-python",
   "name": "python",
   "nbconvert_exporter": "python",
   "pygments_lexer": "ipython3",
   "version": "3.10.18"
  }
 },
 "nbformat": 4,
 "nbformat_minor": 5
}
