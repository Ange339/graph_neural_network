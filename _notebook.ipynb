{
 "cells": [
  {
   "cell_type": "code",
   "execution_count": 1,
   "id": "946482f3",
   "metadata": {},
   "outputs": [],
   "source": [
    "import torch"
   ]
  },
  {
   "cell_type": "code",
   "execution_count": 46,
   "id": "9095d768",
   "metadata": {},
   "outputs": [],
   "source": [
    "class NegativeSampler:\n",
    "    def __init__(self, cfg):\n",
    "        self.cfg = cfg\n",
    "\n",
    "    def sample(self, data):\n",
    "        pos_edge_index = data['user', 'interacts', 'item'].edge_label_index\n",
    "        users = data['user', 'interacts', 'item'].edge_label_index[0]\n",
    "        items = data['user', 'interacts', 'item'].edge_label_index[1]\n",
    "        num_users = data['user'].num_nodes\n",
    "        num_items = data['item'].num_nodes\n",
    "        num_neg_samples, negative_sampling_ratio = self.obtain_num_neg_samples(num_users, num_items, pos_edge_index.size(1))\n",
    "\n",
    "        sampling_func = self.get_sampling_func()\n",
    "\n",
    "        mask = torch.ones(num_neg_samples, dtype=torch.bool, device=device)\n",
    "        neg_edge_index = sampling_func(data, mask)\n",
    "        mask = self.collision_check(pos_edge_index, neg_edge_index)\n",
    "        i = 0\n",
    "        while mask.any() and i < 3:  # Limit to 3 attempts to avoid infinite loop\n",
    "            neg_edge_index = sampling_func(data, mask, neg_edge_index[0], neg_edge_index[1])\n",
    "            mask = self.collision_check(pos_edge_index, neg_edge_index)\n",
    "            i += 1\n",
    "        # logging.debug(f\"Positive edges: {pos_edge_index[:,:10]} ...\")  # Log first 10 positive edges\n",
    "        # logging.debug(f\"Negative edges: {neg_edge_index[:,:10]} ...\")  # Log first 10 negative edges\n",
    "        # uniq_cols, counts = torch.unique(neg_edge_index, dim=1, return_counts=True)\n",
    "        # logging.debug(uniq_cols)\n",
    "        # logging.debug(f\"N. unique edges: {uniq_cols.size(1)/neg_edge_index.size(1):%}\")\n",
    "        # logging.debug(f\"Negative sampling completed in {i+1} attempts. Number of false negatives: {mask.sum().item()}\") if i > 0 else None\n",
    "        neg_edge_label = torch.zeros(neg_edge_index.size(1), dtype=torch.float32, device=device)\n",
    "        return neg_edge_index, neg_edge_label\n",
    "\n",
    "\n",
    "    def get_sampling_func(self):\n",
    "        sampling_strategy = self.cfg.get('negative_sampling_method', 'batch_random')\n",
    "        if sampling_strategy == 'batch_random':\n",
    "            return self.batch_random_sample\n",
    "        elif sampling_strategy == 'pairwise_random':\n",
    "            return self.pairwise_random_sample\n",
    "        else:\n",
    "            raise ValueError(f\"Unknown sampling strategy: {sampling_strategy}\")\n",
    "\n",
    "\n",
    "    def eval_sample(self, data):\n",
    "        \"\"\"Return directly val/test data with negative samples included.\"\"\"\n",
    "        neg_edge_index, neg_edge_label = self.sample(data)\n",
    "        pos_edge_index, pos_edge_label = data['user', 'interacts', 'item'].edge_label_index, data['user', 'interacts', 'item'].edge_label\n",
    "        edge_label_index = torch.cat([pos_edge_index, neg_edge_index], dim=-1)\n",
    "        edge_label = torch.cat([pos_edge_label, neg_edge_label], dim=0)\n",
    "        data['user', 'interacts', 'item'].edge_label_index = edge_label_index\n",
    "        data['user', 'interacts', 'item'].edge_label = edge_label\n",
    "        return data\n",
    "\n",
    "\n",
    "    def batch_random_sample(self, data, mask, negative_users = None, negative_items = None):\n",
    "        \"Custom negative sampling: generate user-item pairs not in positive set.\"\n",
    "        num_users = data['user'].num_nodes\n",
    "        num_items = data['item'].num_nodes\n",
    "        num_neg_samples = mask.sum().item()\n",
    "        if negative_users is None or negative_items is None:\n",
    "            negative_users = torch.randint(0, num_users, (num_neg_samples,), device=device)\n",
    "            negative_items = torch.randint(0, num_items, (num_neg_samples,), device=device)\n",
    "        else:\n",
    "            negative_users[mask] = torch.randint(0, num_users, (num_neg_samples,), device=device)\n",
    "            negative_items[mask] = torch.randint(0, num_items, (num_neg_samples,), device=device)\n",
    "        neg_edge_index = torch.stack([negative_users, negative_items], dim=0)\n",
    "        return neg_edge_index\n",
    "\n",
    "    def pairwise_random_sample(self, data, mask, negative_users = None, negative_items = None):\n",
    "        \"Pairwise negative sampling: for each user, sample negative items.\"\n",
    "        pos_edge_index = data['user', 'interacts', 'item'].edge_label_index\n",
    "        users = pos_edge_index[0]\n",
    "        num_items = data['item'].num_nodes\n",
    "        \n",
    "        num_neg_samples = mask.sum().item()\n",
    "        if negative_items is None:\n",
    "            negative_users = users.repeat_interleave(num_neg_samples // users.size(0))\n",
    "            negative_items = torch.randint(0, num_items, (num_neg_samples,), device=device)\n",
    "        else:\n",
    "            negative_items[mask] = torch.randint(0, num_items, (num_neg_samples,), device=device)\n",
    "        neg_edge_index = torch.stack([negative_users, negative_items], dim=0)\n",
    "        return neg_edge_index\n",
    "\n",
    "\n",
    "    def obtain_num_neg_samples(self, num_users, num_items, num_pos_edges):\n",
    "        negative_sampling_ratio = self.cfg['negative_sampling_ratio']\n",
    "        max_edges = num_users * num_items\n",
    "        num_neg_samples = int(negative_sampling_ratio * num_pos_edges)\n",
    "        if num_neg_samples > max_edges:\n",
    "            negative_sampling_ratio = max_edges // num_pos_edges\n",
    "            num_neg_samples = negative_sampling_ratio * num_pos_edges  # Otherwise sampling error\n",
    "        return num_neg_samples, negative_sampling_ratio\n",
    "\n",
    "\n",
    "    def collision_check(self, pos_edge_index, neg_edge_index):\n",
    "        \"\"\"\n",
    "        For the collision, we will appy quotient-remainder theorem to hash the edges.\n",
    "        Theorem: For any integer a and any positive integer b, there exist unique integers q and r such that\n",
    "        a = bq + r and 0 <= r < b.\n",
    "\n",
    "        \"\"\"\n",
    "        edge_max = max(pos_edge_index.max().item(), neg_edge_index.max().item()) + 1\n",
    "        hashd_pos = (pos_edge_index[0, :]  + pos_edge_index[1:, :] * edge_max)[0]\n",
    "        hashd_neg = (neg_edge_index[0, :]  + neg_edge_index[1:, :] * edge_max)[0]\n",
    "        mask = torch.isin(hashd_neg, hashd_pos)\n",
    "        return mask\n"
   ]
  },
  {
   "cell_type": "code",
   "execution_count": 6,
   "id": "6ad54171",
   "metadata": {},
   "outputs": [
    {
     "data": {
      "text/plain": [
       "HeteroData(\n",
       "  user={ num_nodes=3 },\n",
       "  item={ num_nodes=4 },\n",
       "  (user, interacts, item)={\n",
       "    edge_label_index=[2, 4],\n",
       "    edge_label=[4],\n",
       "  }\n",
       ")"
      ]
     },
     "execution_count": 6,
     "metadata": {},
     "output_type": "execute_result"
    }
   ],
   "source": [
    "from torch_geometric.data import HeteroData\n",
    "device = torch.device('cuda' if torch.cuda.is_available() else 'cpu')\n",
    "\n",
    "data = HeteroData()\n",
    "data['user'].num_nodes = 3\n",
    "data['item'].num_nodes = 4\n",
    "# Example: user 0 interacts with item 1, user 1 with item 2, user 2 with item 3\n",
    "edge_index = torch.tensor([[0, 1, 2, 0], [1, 2, 3, 0]], dtype=torch.long)\n",
    "edge_label = torch.ones(edge_index.size(1), dtype=torch.float32, device=device)\n",
    "data['user', 'interacts', 'item'].edge_label_index = edge_index\n",
    "data['user', 'interacts', 'item'].edge_label = edge_label\n",
    "data"
   ]
  },
  {
   "cell_type": "code",
   "execution_count": 47,
   "id": "5ed968b7",
   "metadata": {},
   "outputs": [
    {
     "data": {
      "text/plain": [
       "tensor([[0, 0, 1, 1, 2, 2, 0, 0],\n",
       "        [2, 2, 3, 0, 0, 0, 2, 2]])"
      ]
     },
     "execution_count": 47,
     "metadata": {},
     "output_type": "execute_result"
    }
   ],
   "source": [
    "cfg = {'negative_sampling_ratio': 2, 'negative_sampling_method': 'pairwise_random'}\n",
    "sampler = NegativeSampler(cfg)\n",
    "neg_edge_index, neg_edge_label = sampler.sample(data)\n",
    "neg_edge_index"
   ]
  },
  {
   "cell_type": "code",
   "execution_count": 48,
   "id": "4349860d",
   "metadata": {},
   "outputs": [
    {
     "data": {
      "text/plain": [
       "tensor([[0, 1, 2, 0],\n",
       "        [1, 2, 3, 0]])"
      ]
     },
     "execution_count": 48,
     "metadata": {},
     "output_type": "execute_result"
    }
   ],
   "source": [
    "pos_edge_index, pos_edge_label = data['user', 'interacts', 'item'].edge_label_index, data['user', 'interacts', 'item'].edge_label\n",
    "pos_edge_index"
   ]
  },
  {
   "cell_type": "code",
   "execution_count": 14,
   "id": "a3af1bc7",
   "metadata": {},
   "outputs": [
    {
     "data": {
      "text/plain": [
       "tensor([0.2625, 0.8114, 0.6996, 0.9176, 0.2163, 0.2267, 0.6081, 0.9973, 0.4342,\n",
       "        0.8890, 0.1594, 0.3710])"
      ]
     },
     "execution_count": 14,
     "metadata": {},
     "output_type": "execute_result"
    }
   ],
   "source": [
    "edge_label = torch.cat([pos_edge_label, neg_edge_label], dim=0)\n",
    "preds = torch.rand(edge_label.size(0), device=device)\n",
    "preds"
   ]
  },
  {
   "cell_type": "code",
   "execution_count": 49,
   "id": "fc787f2e",
   "metadata": {},
   "outputs": [
    {
     "name": "stdout",
     "output_type": "stream",
     "text": [
      "Positive predictions: tensor([0.2625, 0.8114, 0.6996, 0.9176])\n",
      "Negative predictions: tensor([0.2163, 0.2267, 0.6081, 0.9973, 0.4342, 0.8890, 0.1594, 0.3710])\n"
     ]
    }
   ],
   "source": [
    "pos_mask = edge_label == 1\n",
    "pos_preds = preds[pos_mask]\n",
    "neg_preds = preds[~pos_mask]\n",
    "print(f\"Positive predictions: {pos_preds}\")\n",
    "print(f\"Negative predictions: {neg_preds}\")"
   ]
  },
  {
   "cell_type": "code",
   "execution_count": 50,
   "id": "3bf4d1dc",
   "metadata": {},
   "outputs": [
    {
     "data": {
      "text/plain": [
       "tensor([[ 0.0462,  0.0358, -0.3457, -0.7349, -0.1718, -0.6266,  0.1030, -0.1086],\n",
       "        [ 0.5952,  0.5847,  0.2033, -0.1859,  0.3772, -0.0776,  0.6520,  0.4404],\n",
       "        [ 0.4834,  0.4729,  0.0915, -0.2977,  0.2654, -0.1894,  0.5402,  0.3286],\n",
       "        [ 0.7014,  0.6910,  0.3095, -0.0797,  0.4834,  0.0286,  0.7582,  0.5466]])"
      ]
     },
     "execution_count": 50,
     "metadata": {},
     "output_type": "execute_result"
    }
   ],
   "source": [
    "diff = pos_preds.unsqueeze(1) - neg_preds.unsqueeze(0)\n",
    "diff"
   ]
  },
  {
   "cell_type": "code",
   "execution_count": 51,
   "id": "45e2fc62",
   "metadata": {},
   "outputs": [
    {
     "data": {
      "text/plain": [
       "tensor([[0.2625],\n",
       "        [0.8114],\n",
       "        [0.6996],\n",
       "        [0.9176]])"
      ]
     },
     "execution_count": 51,
     "metadata": {},
     "output_type": "execute_result"
    }
   ],
   "source": [
    "pos_preds.unsqueeze(1)"
   ]
  },
  {
   "cell_type": "code",
   "execution_count": 56,
   "id": "99c84b9c",
   "metadata": {},
   "outputs": [
    {
     "data": {
      "text/plain": [
       "tensor([[0.2163, 0.2267],\n",
       "        [0.6081, 0.9973],\n",
       "        [0.4342, 0.8890],\n",
       "        [0.1594, 0.3710]])"
      ]
     },
     "execution_count": 56,
     "metadata": {},
     "output_type": "execute_result"
    }
   ],
   "source": [
    "neg_preds_re = neg_preds.view(pos_preds.size(0), -1)\n",
    "neg_preds_re"
   ]
  },
  {
   "cell_type": "code",
   "execution_count": 39,
   "id": "09696021",
   "metadata": {},
   "outputs": [
    {
     "data": {
      "text/plain": [
       "tensor([[ 0.0462,  0.0358],\n",
       "        [ 0.2033, -0.1859],\n",
       "        [ 0.2654, -0.1894],\n",
       "        [ 0.7582,  0.5466]])"
      ]
     },
     "execution_count": 39,
     "metadata": {},
     "output_type": "execute_result"
    }
   ],
   "source": [
    "diff = pos_preds.unsqueeze(1) - neg_preds_re\n",
    "diff"
   ]
  },
  {
   "cell_type": "code",
   "execution_count": 54,
   "id": "ca150d77",
   "metadata": {},
   "outputs": [
    {
     "name": "stdout",
     "output_type": "stream",
     "text": [
      "tensor([0.2625, 0.2625, 0.8114, 0.8114, 0.6996, 0.6996, 0.9176, 0.9176])\n",
      "tensor([0.2163, 0.2267, 0.6081, 0.9973, 0.4342, 0.8890, 0.1594, 0.3710])\n",
      "tensor([ 0.0462,  0.0358,  0.2033, -0.1859,  0.2654, -0.1894,  0.7582,  0.5466])\n"
     ]
    },
    {
     "data": {
      "text/plain": [
       "tensor([[ 0.0462,  0.0358],\n",
       "        [ 0.2033, -0.1859],\n",
       "        [ 0.2654, -0.1894],\n",
       "        [ 0.7582,  0.5466]])"
      ]
     },
     "execution_count": 54,
     "metadata": {},
     "output_type": "execute_result"
    }
   ],
   "source": [
    "pos_preds_expanded = pos_preds.repeat_interleave(neg_preds.size(0) // pos_preds.size(0))\n",
    "print(f\"{pos_preds_expanded}\")\n",
    "print(f\"{neg_preds}\")\n",
    "diff2 = pos_preds_expanded - neg_preds\n",
    "print(diff2)\n",
    "diff2 = diff2.reshape(pos_preds.size(0), -1)\n",
    "diff2"
   ]
  },
  {
   "cell_type": "code",
   "execution_count": 10,
   "id": "3c560e53",
   "metadata": {},
   "outputs": [],
   "source": [
    "def bpr_loss(preds, edge_label):\n",
    "    \"\"\"\n",
    "    Compute the Bayesian Personalized Ranking (BPR) loss.\n",
    "    It encourages the model to rank positive edges higher than negative edges.\n",
    "    Formula: -log(sigmoid(pos_preds - neg_preds))\n",
    "    \"\"\"\n",
    "    EPS = 1e-15\n",
    "\n",
    "    pos_mask = edge_label == 1\n",
    "    pos_preds = preds[pos_mask]\n",
    "    neg_preds = preds[~pos_mask]\n",
    "\n",
    "    pos_preds_expanded = pos_preds.repeat(neg_preds.size(0) // pos_preds.size(0))\n",
    "\n",
    "    # Compute the difference between positive and negative predictions\n",
    "    diff = pos_preds_expanded - neg_preds  # Shape: \n",
    "\n",
    "    # Apply the BPR loss formula\n",
    "    loss = F.softplus(-diff).mean()  # -log(sigmoid(x)) = softplus(-x)\n",
    "    return loss"
   ]
  },
  {
   "cell_type": "code",
   "execution_count": null,
   "id": "723d42fe",
   "metadata": {},
   "outputs": [],
   "source": [
    "neg_edge_index"
   ]
  }
 ],
 "metadata": {
  "kernelspec": {
   "display_name": "pyg",
   "language": "python",
   "name": "python3"
  },
  "language_info": {
   "codemirror_mode": {
    "name": "ipython",
    "version": 3
   },
   "file_extension": ".py",
   "mimetype": "text/x-python",
   "name": "python",
   "nbconvert_exporter": "python",
   "pygments_lexer": "ipython3",
   "version": "3.10.18"
  }
 },
 "nbformat": 4,
 "nbformat_minor": 5
}
